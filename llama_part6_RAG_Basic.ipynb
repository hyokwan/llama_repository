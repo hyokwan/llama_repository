{
 "cells": [
  {
   "cell_type": "markdown",
   "id": "52964fa7-e8fd-45cf-9900-5df6f30b4701",
   "metadata": {},
   "source": [
    "# 1. 라이브러리 선언"
   ]
  },
  {
   "cell_type": "code",
   "execution_count": 2,
   "id": "d21e8fb4-9855-4941-abc2-7b2e274c051c",
   "metadata": {},
   "outputs": [
    {
     "data": {
      "text/plain": [
       "'C:\\\\gitclone\\\\python\\\\lecture\\\\python-lecture\\\\Session14 - LLM모델 연동 실습'"
      ]
     },
     "execution_count": 2,
     "metadata": {},
     "output_type": "execute_result"
    }
   ],
   "source": [
    "pwd"
   ]
  },
  {
   "cell_type": "code",
   "execution_count": 1,
   "id": "73323566-79f0-49b2-a18a-ef8903b322a5",
   "metadata": {},
   "outputs": [],
   "source": [
    "from langchain_community.document_loaders import PyPDFLoader\n",
    "\n",
    "from langchain.text_splitter import RecursiveCharacterTextSplitter\n",
    "\n",
    "from langchain.embeddings import HuggingFaceEmbeddings\n",
    "\n",
    "import re\n",
    "from langchain.schema import Document\n",
    "from langchain_community.vectorstores import Chroma\n",
    "\n",
    "from sentence_transformers import SentenceTransformer\n",
    "from datasets import load_dataset\n",
    "\n",
    "import os\n",
    "\n",
    "from langchain.chains.question_answering import load_qa_chain\n",
    "\n",
    "from langchain.chains import RetrievalQA\n",
    "from langchain.memory import ConversationSummaryMemory\n",
    "from langchain.text_splitter import CharacterTextSplitter\n",
    "import chromadb\n",
    "\n",
    "from langchain.prompts import PromptTemplate\n",
    "from langchain.llms import Ollama"
   ]
  },
  {
   "cell_type": "markdown",
   "id": "66dbb04c-e1b3-4fd7-b46f-2949c837298f",
   "metadata": {},
   "source": [
    "# 2. 벡터DB 내 PDF 정보저장"
   ]
  },
  {
   "cell_type": "code",
   "execution_count": 2,
   "id": "2cb78ac2-ffd2-45cd-9e69-2ac92f1bfe1e",
   "metadata": {},
   "outputs": [
    {
     "name": "stderr",
     "output_type": "stream",
     "text": [
      "C:\\Users\\HP\\AppData\\Local\\Programs\\Python\\Python310\\lib\\site-packages\\huggingface_hub\\file_download.py:1132: FutureWarning: `resume_download` is deprecated and will be removed in version 1.0.0. Downloads always resume when possible. If you want to force a new download, use `force_download=True`.\n",
      "  warnings.warn(\n",
      "C:\\Users\\HP\\AppData\\Local\\Programs\\Python\\Python310\\lib\\site-packages\\huggingface_hub\\file_download.py:1132: FutureWarning: `resume_download` is deprecated and will be removed in version 1.0.0. Downloads always resume when possible. If you want to force a new download, use `force_download=True`.\n",
      "  warnings.warn(\n"
     ]
    }
   ],
   "source": [
    "ST = SentenceTransformer(\"jhgan/ko-sbert-sts\")\n",
    "\n",
    "# %cd /content/\n",
    "loader = PyPDFLoader('./pdfdata//강서캠퍼스.pdf')\n",
    "documents = loader.load()\n",
    "output = []\n",
    "# text 정제\n",
    "for page in documents:\n",
    "    text = page.page_content\n",
    "    output.append(text)\n",
    "\n",
    "doc_chunks = []\n",
    "for line in output:\n",
    "    text_splitter = RecursiveCharacterTextSplitter(\n",
    "        chunk_size=300, # 최대 청크 길이\n",
    "        separators=[\"\\n\\n\", \"\\n\", \".\", \"!\", \"?\", \",\", \" \", \"\"], #  텍스트를 청크로 분할하는 데 사용되는 문자 목록\n",
    "        chunk_overlap=200, # 인접한 청크 간에 중복되는 문자 수\n",
    "    )\n",
    "    chunks = text_splitter.split_text(line)\n",
    "    for i, chunk in enumerate(chunks):\n",
    "        doc = Document(\n",
    "            page_content=chunk, metadata={ \"source\": '강서캠퍼스.pdf', \"page\": i}\n",
    "        )\n",
    "        doc_chunks.append(doc)"
   ]
  },
  {
   "cell_type": "code",
   "execution_count": 3,
   "id": "11ed05b2-3308-407f-83fe-20e9b10a3cc5",
   "metadata": {
    "scrolled": true
   },
   "outputs": [],
   "source": [
    "embedding_func = HuggingFaceEmbeddings(\n",
    "    model_name=\"jhgan/ko-sbert-sts\"\n",
    ")\n",
    "\n",
    "vectordb  = Chroma.from_documents(doc_chunks, embedding_func)"
   ]
  },
  {
   "cell_type": "code",
   "execution_count": 8,
   "id": "7139c844-0a39-4883-a77b-274cfcfffcbf",
   "metadata": {
    "scrolled": true
   },
   "outputs": [
    {
     "name": "stdout",
     "output_type": "stream",
     "text": [
      "\n",
      "\n",
      "\u001b[1m> Entering new StuffDocumentsChain chain...\u001b[0m\n",
      "\n",
      "\n",
      "\u001b[1m> Entering new LLMChain chain...\u001b[0m\n",
      "Prompt after formatting:\n",
      "\u001b[32;1m\u001b[1;3myou are a assistant please answer in korean lanauage - 8 -9 등록포기 안내  구분 내용 등록포기 방법▪ 온라인 (홈페이지 )으로 본인이 직접 등록포기 ▪ 등록포기 신청이 승인처리 되면 취소할 수 없으니 유의하기 바람 10 학과 및 기타   <하이테크과정 학과> 학과 내용 스마트금융 ☎02-2186-5861▪ 금융과 소프트웨어 기술을 융합한 핀테크 산업 분야의 실무형 개발자 양성 ▪ (주요교과목 ) 빅데이터 분석, 블록체인 개발, 금융데이터 분석, 웹 어플리케이션 개발 ▪ (취득가능자격증 ) 정보처리기사 , 정보처리산업기사 , 리눅스마스터 , SQLD, OCJP\n",
      "\n",
      "- 1 -한국폴리텍대학 서울강서캠퍼스 2024 학년도 하이테크과정 모집요강 (주소) 서울특별시 강서구 우장산로 10길 112 (대표번호 ) 02-2186-5800 1 모집학과 (직종) 및 모집인원 가.선발 비율 구분 정원 모집 1차 모집 2차 하이테크 100% 50% 50% ※ 정원의 110%까지 선발 ※ 모집 2차 실시 후 결원이 발생한 경우는 자율 모집 ※ 모집 차수별 미달 인원은 이월하여 다음 차수에 모집(모집1차→모집2차→자율모집 ) ※ 모집 1차 합격 후 등록자는 모집 2차 및 자율 모집에 지원할 수 없음 나\n",
      "\n",
      ", 개별 공지하지 않음) ■ 지원자별 해당 제출서류 주소지 (등기우편 )  - (07684) 서울특별시 강서구 우장산로 10길 112    한국폴리텍대학 서울강서캠퍼스 교학처    (하이테크과정 입시담당자 앞)  ※ 입학전형은 대학 사정에 따라 입학전형관리소위원회의 심의를 통하여 변경될 수 있음과 정 학 과 직 종모집 정원모집 인원모집 1차 모집 2차 소계 일반 우선 소계 일반 우선 하이테크 (주간1년)총 계 100 108 56 52 4 52 48 4 사이버보안 사이버보안 25 27 14 13 113 12 1 스마트금융 핀테크 25\n",
      "\n",
      "훈련개시일 전일까지 고용보험 상실 처리가 되지 않은 자   - 폴리텍대학 내 과정 구분 없이 이중 등록이 된 자   - 기타 부정한 방법으로 합격 또는 입학한 사실이 확인된 자 기 타▪ 모집 요강에 구체적으로 명시되지 않은 사항은 대학의 입학전형관리 (소)위원회에서 결정 ▪ 입학전형은 대학의 사정에 따라 변경될 수 있음 문의사항  * 서 울 강 서 캠 퍼 스  : 02-2186-5800    (스 마 트금 융 과 ) 02-2186-5861 (사이버보안과 ) 02-2186-5850 (출판편집디자인과 ) 02-2186-5920 구분\n",
      "\n",
      "### Instruction:\n",
      "한국폴리텍대학 하이테크과정 스마트금융과 모집정원은 어떻게 되나요?\n",
      "\n",
      "### Response:\u001b[0m\n",
      "\n",
      "\u001b[1m> Finished chain.\u001b[0m\n",
      "\n",
      "\u001b[1m> Finished chain.\u001b[0m\n"
     ]
    },
    {
     "data": {
      "text/plain": [
       "{'query': '한국폴리텍대학 하이테크과정 스마트금융과 모집정원은 어떻게 되나요?',\n",
       " 'result': '한국폴리텍대학 하이테크 과정 스마트금융과는 50명 입니다.',\n",
       " 'source_documents': [Document(page_content='- 8 -9 등록포기 안내  구분 내용 등록포기 방법▪ 온라인 (홈페이지 )으로 본인이 직접 등록포기 ▪ 등록포기 신청이 승인처리 되면 취소할 수 없으니 유의하기 바람 10 학과 및 기타   <하이테크과정 학과> 학과 내용 스마트금융 ☎02-2186-5861▪ 금융과 소프트웨어 기술을 융합한 핀테크 산업 분야의 실무형 개발자 양성 ▪ (주요교과목 ) 빅데이터 분석, 블록체인 개발, 금융데이터 분석, 웹 어플리케이션 개발 ▪ (취득가능자격증 ) 정보처리기사 , 정보처리산업기사 , 리눅스마스터 , SQLD, OCJP', metadata={'page': 0, 'source': '강서캠퍼스.pdf'}),\n",
       "  Document(page_content='- 1 -한국폴리텍대학 서울강서캠퍼스 2024 학년도 하이테크과정 모집요강 (주소) 서울특별시 강서구 우장산로 10길 112 (대표번호 ) 02-2186-5800 1 모집학과 (직종) 및 모집인원 가.선발 비율 구분 정원 모집 1차 모집 2차 하이테크 100% 50% 50% ※ 정원의 110%까지 선발 ※ 모집 2차 실시 후 결원이 발생한 경우는 자율 모집 ※ 모집 차수별 미달 인원은 이월하여 다음 차수에 모집(모집1차→모집2차→자율모집 ) ※ 모집 1차 합격 후 등록자는 모집 2차 및 자율 모집에 지원할 수 없음 나', metadata={'page': 0, 'source': '강서캠퍼스.pdf'}),\n",
       "  Document(page_content=', 개별 공지하지 않음) ■ 지원자별 해당 제출서류 주소지 (등기우편 )  - (07684) 서울특별시 강서구 우장산로 10길 112    한국폴리텍대학 서울강서캠퍼스 교학처    (하이테크과정 입시담당자 앞)  ※ 입학전형은 대학 사정에 따라 입학전형관리소위원회의 심의를 통하여 변경될 수 있음과 정 학 과 직 종모집 정원모집 인원모집 1차 모집 2차 소계 일반 우선 소계 일반 우선 하이테크 (주간1년)총 계 100 108 56 52 4 52 48 4 사이버보안 사이버보안 25 27 14 13 113 12 1 스마트금융 핀테크 25', metadata={'page': 7, 'source': '강서캠퍼스.pdf'}),\n",
       "  Document(page_content='훈련개시일 전일까지 고용보험 상실 처리가 되지 않은 자   - 폴리텍대학 내 과정 구분 없이 이중 등록이 된 자   - 기타 부정한 방법으로 합격 또는 입학한 사실이 확인된 자 기 타▪ 모집 요강에 구체적으로 명시되지 않은 사항은 대학의 입학전형관리 (소)위원회에서 결정 ▪ 입학전형은 대학의 사정에 따라 변경될 수 있음 문의사항  * 서 울 강 서 캠 퍼 스  : 02-2186-5800    (스 마 트금 융 과 ) 02-2186-5861 (사이버보안과 ) 02-2186-5850 (출판편집디자인과 ) 02-2186-5920 구분', metadata={'page': 6, 'source': '강서캠퍼스.pdf'})]}"
      ]
     },
     "execution_count": 8,
     "metadata": {},
     "output_type": "execute_result"
    }
   ],
   "source": [
    "# ollamaModel = \"hkcode-beomi-8b-ko-llama3-model\"\n",
    "# ollamaModel = \"llama3-hkcode-ko\"\n",
    "# ollamaModel = \"llama3-hkcode-unsloth\"\n",
    "ollamaModel = 'llama3-hkcode-meta' #You can replace the model name if needed\n",
    "\n",
    "# template = \"\"\"<s>[INST] <<SYS>>please answer in korean language </SYS>>Given the context - {context} </s>[/INST] [INST] Answer the following - {question}[/INST]\"\"\"\n",
    "\n",
    "template=\"\"\"you are a assistant please answer in korean lanauage {context}\n",
    "\n",
    "### Instruction:\n",
    "{question}\n",
    "\n",
    "### Response:\"\"\"\n",
    "pt = PromptTemplate(\n",
    "            template=template, input_variables=[\"context\", \"question\"]\n",
    "        )\n",
    "\n",
    "rag = RetrievalQA.from_chain_type(\n",
    "            llm=Ollama(model=ollamaModel),\n",
    "            retriever=vectordb.as_retriever(),\n",
    "            # memory=ConversationSummaryMemory(llm = Ollama(model=ollamaModel)),\n",
    "              return_source_documents=True,\n",
    "            chain_type_kwargs={\"prompt\": pt, \"verbose\": True},\n",
    "        )\n",
    "rag.invoke(\"스마트금융과 전화번호는 어떻게 되나요?\")"
   ]
  },
  {
   "cell_type": "code",
   "execution_count": 7,
   "id": "878891f8-2fb2-4fd5-8f2d-7b25abff6469",
   "metadata": {},
   "outputs": [
    {
     "name": "stdout",
     "output_type": "stream",
     "text": [
      "\n",
      "\n",
      "\u001b[1m> Entering new StuffDocumentsChain chain...\u001b[0m\n",
      "\n",
      "\n",
      "\u001b[1m> Entering new LLMChain chain...\u001b[0m\n",
      "Prompt after formatting:\n",
      "\u001b[32;1m\u001b[1;3myou are a assistant please answer in korean lanauage - 8 -9 등록포기 안내  구분 내용 등록포기 방법▪ 온라인 (홈페이지 )으로 본인이 직접 등록포기 ▪ 등록포기 신청이 승인처리 되면 취소할 수 없으니 유의하기 바람 10 학과 및 기타   <하이테크과정 학과> 학과 내용 스마트금융 ☎02-2186-5861▪ 금융과 소프트웨어 기술을 융합한 핀테크 산업 분야의 실무형 개발자 양성 ▪ (주요교과목 ) 빅데이터 분석, 블록체인 개발, 금융데이터 분석, 웹 어플리케이션 개발 ▪ (취득가능자격증 ) 정보처리기사 , 정보처리산업기사 , 리눅스마스터 , SQLD, OCJP\n",
      "\n",
      "- 1 -한국폴리텍대학 서울강서캠퍼스 2024 학년도 하이테크과정 모집요강 (주소) 서울특별시 강서구 우장산로 10길 112 (대표번호 ) 02-2186-5800 1 모집학과 (직종) 및 모집인원 가.선발 비율 구분 정원 모집 1차 모집 2차 하이테크 100% 50% 50% ※ 정원의 110%까지 선발 ※ 모집 2차 실시 후 결원이 발생한 경우는 자율 모집 ※ 모집 차수별 미달 인원은 이월하여 다음 차수에 모집(모집1차→모집2차→자율모집 ) ※ 모집 1차 합격 후 등록자는 모집 2차 및 자율 모집에 지원할 수 없음 나\n",
      "\n",
      ", 개별 공지하지 않음) ■ 지원자별 해당 제출서류 주소지 (등기우편 )  - (07684) 서울특별시 강서구 우장산로 10길 112    한국폴리텍대학 서울강서캠퍼스 교학처    (하이테크과정 입시담당자 앞)  ※ 입학전형은 대학 사정에 따라 입학전형관리소위원회의 심의를 통하여 변경될 수 있음과 정 학 과 직 종모집 정원모집 인원모집 1차 모집 2차 소계 일반 우선 소계 일반 우선 하이테크 (주간1년)총 계 100 108 56 52 4 52 48 4 사이버보안 사이버보안 25 27 14 13 113 12 1 스마트금융 핀테크 25\n",
      "\n",
      "훈련개시일 전일까지 고용보험 상실 처리가 되지 않은 자   - 폴리텍대학 내 과정 구분 없이 이중 등록이 된 자   - 기타 부정한 방법으로 합격 또는 입학한 사실이 확인된 자 기 타▪ 모집 요강에 구체적으로 명시되지 않은 사항은 대학의 입학전형관리 (소)위원회에서 결정 ▪ 입학전형은 대학의 사정에 따라 변경될 수 있음 문의사항  * 서 울 강 서 캠 퍼 스  : 02-2186-5800    (스 마 트금 융 과 ) 02-2186-5861 (사이버보안과 ) 02-2186-5850 (출판편집디자인과 ) 02-2186-5920 구분\n",
      "\n",
      "### Instruction:\n",
      "한국폴리텍대학 하이테크과정 스마트금융과 모집정원은 어떻게 되나요?\n",
      "\n",
      "### Response:\u001b[0m\n",
      "\n",
      "\u001b[1m> Finished chain.\u001b[0m\n",
      "\n",
      "\u001b[1m> Finished chain.\u001b[0m\n"
     ]
    },
    {
     "data": {
      "text/plain": [
       "'한국폴리텍대학의 홈페이지에 들어가면 전체 정원이 나옵니다.'"
      ]
     },
     "execution_count": 7,
     "metadata": {},
     "output_type": "execute_result"
    }
   ],
   "source": [
    "resp = rag.invoke(\"스마트금융과 전화번호는 어떻게 되나요?\")\n",
    "resp[\"result\"]"
   ]
  },
  {
   "cell_type": "markdown",
   "id": "69d8a856-98bf-446e-8bc9-4f03a41fddd5",
   "metadata": {},
   "source": [
    "# gradio 챗봇"
   ]
  },
  {
   "cell_type": "code",
   "execution_count": 10,
   "id": "3d2d2877-a1be-490f-b97a-739b72f0813b",
   "metadata": {},
   "outputs": [],
   "source": [
    "# gradio == 3.45.0"
   ]
  },
  {
   "cell_type": "code",
   "execution_count": null,
   "id": "6e9a2887-062b-4656-931d-1aa5bd5f4de0",
   "metadata": {},
   "outputs": [
    {
     "name": "stdout",
     "output_type": "stream",
     "text": [
      "Running on local URL:  http://127.0.0.1:7860\n",
      "Running on public URL: https://8a0482244cfbc66f05.gradio.live\n",
      "\n",
      "This share link expires in 72 hours. For free permanent hosting and GPU upgrades, run `gradio deploy` from Terminal to deploy to Spaces (https://huggingface.co/spaces)\n"
     ]
    },
    {
     "data": {
      "text/html": [
       "<div><iframe src=\"https://8a0482244cfbc66f05.gradio.live\" width=\"100%\" height=\"500\" allow=\"autoplay; camera; microphone; clipboard-read; clipboard-write;\" frameborder=\"0\" allowfullscreen></iframe></div>"
      ],
      "text/plain": [
       "<IPython.core.display.HTML object>"
      ]
     },
     "metadata": {},
     "output_type": "display_data"
    },
    {
     "name": "stdout",
     "output_type": "stream",
     "text": [
      "\n",
      "\n",
      "\u001b[1m> Entering new StuffDocumentsChain chain...\u001b[0m\n",
      "\n",
      "\n",
      "\u001b[1m> Entering new LLMChain chain...\u001b[0m\n",
      "Prompt after formatting:\n",
      "\u001b[32;1m\u001b[1;3myou are a assistant please answer in korean lanauage 훈련개시일 전일까지 고용보험 상실 처리가 되지 않은 자   - 폴리텍대학 내 과정 구분 없이 이중 등록이 된 자   - 기타 부정한 방법으로 합격 또는 입학한 사실이 확인된 자 기 타▪ 모집 요강에 구체적으로 명시되지 않은 사항은 대학의 입학전형관리 (소)위원회에서 결정 ▪ 입학전형은 대학의 사정에 따라 변경될 수 있음 문의사항  * 서 울 강 서 캠 퍼 스  : 02-2186-5800    (스 마 트금 융 과 ) 02-2186-5861 (사이버보안과 ) 02-2186-5850 (출판편집디자인과 ) 02-2186-5920 구분\n",
      "\n",
      ",000원(월 20만원 한도)       ☞ 그외 훈련생 : 출석 1일 3,300원(월 66,000 원 한도)     - 교통비 : 출석 1일 2,500원(월 5만원 한도)    ※※ 서울강서캠퍼스는 기숙사 없음※※  <오시는 길>      대중교통 교통편 노   선 오시는 길 지하철 5호선 (우장산역 )  9호선 (가양역 )2번 출구 도보 10분 8번 출구 버스 10분 버스한국폴리텍 서 울 강 서 대 학 교604,606, 650,  652, 673,  5712, 6514,  6627, 6629,  70, 70-2\n",
      "\n",
      "- 8 -9 등록포기 안내  구분 내용 등록포기 방법▪ 온라인 (홈페이지 )으로 본인이 직접 등록포기 ▪ 등록포기 신청이 승인처리 되면 취소할 수 없으니 유의하기 바람 10 학과 및 기타   <하이테크과정 학과> 학과 내용 스마트금융 ☎02-2186-5861▪ 금융과 소프트웨어 기술을 융합한 핀테크 산업 분야의 실무형 개발자 양성 ▪ (주요교과목 ) 빅데이터 분석, 블록체인 개발, 금융데이터 분석, 웹 어플리케이션 개발 ▪ (취득가능자격증 ) 정보처리기사 , 정보처리산업기사 , 리눅스마스터 , SQLD, OCJP\n",
      "\n",
      ", 개별 공지하지 않음) ■ 지원자별 해당 제출서류 주소지 (등기우편 )  - (07684) 서울특별시 강서구 우장산로 10길 112    한국폴리텍대학 서울강서캠퍼스 교학처    (하이테크과정 입시담당자 앞)  ※ 입학전형은 대학 사정에 따라 입학전형관리소위원회의 심의를 통하여 변경될 수 있음과 정 학 과 직 종모집 정원모집 인원모집 1차 모집 2차 소계 일반 우선 소계 일반 우선 하이테크 (주간1년)총 계 100 108 56 52 4 52 48 4 사이버보안 사이버보안 25 27 14 13 113 12 1 스마트금융 핀테크 25\n",
      "\n",
      "### Instruction:\n",
      "한국폴리텍대학 스마트금융과 전화번호는?\n",
      "\n",
      "### Response:\u001b[0m\n",
      "\n",
      "\u001b[1m> Finished chain.\u001b[0m\n",
      "\n",
      "\u001b[1m> Finished chain.\u001b[0m\n",
      "\n",
      "\n",
      "\u001b[1m> Entering new StuffDocumentsChain chain...\u001b[0m\n",
      "\n",
      "\n",
      "\u001b[1m> Entering new LLMChain chain...\u001b[0m\n",
      "Prompt after formatting:\n",
      "\u001b[32;1m\u001b[1;3myou are a assistant please answer in korean lanauage - 8 -9 등록포기 안내  구분 내용 등록포기 방법▪ 온라인 (홈페이지 )으로 본인이 직접 등록포기 ▪ 등록포기 신청이 승인처리 되면 취소할 수 없으니 유의하기 바람 10 학과 및 기타   <하이테크과정 학과> 학과 내용 스마트금융 ☎02-2186-5861▪ 금융과 소프트웨어 기술을 융합한 핀테크 산업 분야의 실무형 개발자 양성 ▪ (주요교과목 ) 빅데이터 분석, 블록체인 개발, 금융데이터 분석, 웹 어플리케이션 개발 ▪ (취득가능자격증 ) 정보처리기사 , 정보처리산업기사 , 리눅스마스터 , SQLD, OCJP\n",
      "\n",
      "- 1 -한국폴리텍대학 서울강서캠퍼스 2024 학년도 하이테크과정 모집요강 (주소) 서울특별시 강서구 우장산로 10길 112 (대표번호 ) 02-2186-5800 1 모집학과 (직종) 및 모집인원 가.선발 비율 구분 정원 모집 1차 모집 2차 하이테크 100% 50% 50% ※ 정원의 110%까지 선발 ※ 모집 2차 실시 후 결원이 발생한 경우는 자율 모집 ※ 모집 차수별 미달 인원은 이월하여 다음 차수에 모집(모집1차→모집2차→자율모집 ) ※ 모집 1차 합격 후 등록자는 모집 2차 및 자율 모집에 지원할 수 없음 나\n",
      "\n",
      ", 개별 공지하지 않음) ■ 지원자별 해당 제출서류 주소지 (등기우편 )  - (07684) 서울특별시 강서구 우장산로 10길 112    한국폴리텍대학 서울강서캠퍼스 교학처    (하이테크과정 입시담당자 앞)  ※ 입학전형은 대학 사정에 따라 입학전형관리소위원회의 심의를 통하여 변경될 수 있음과 정 학 과 직 종모집 정원모집 인원모집 1차 모집 2차 소계 일반 우선 소계 일반 우선 하이테크 (주간1년)총 계 100 108 56 52 4 52 48 4 사이버보안 사이버보안 25 27 14 13 113 12 1 스마트금융 핀테크 25\n",
      "\n",
      "훈련개시일 전일까지 고용보험 상실 처리가 되지 않은 자   - 폴리텍대학 내 과정 구분 없이 이중 등록이 된 자   - 기타 부정한 방법으로 합격 또는 입학한 사실이 확인된 자 기 타▪ 모집 요강에 구체적으로 명시되지 않은 사항은 대학의 입학전형관리 (소)위원회에서 결정 ▪ 입학전형은 대학의 사정에 따라 변경될 수 있음 문의사항  * 서 울 강 서 캠 퍼 스  : 02-2186-5800    (스 마 트금 융 과 ) 02-2186-5861 (사이버보안과 ) 02-2186-5850 (출판편집디자인과 ) 02-2186-5920 구분\n",
      "\n",
      "### Instruction:\n",
      "한국폴리텍대학 하이테크과정 스마트금융과 정원은 어떻게 되나요?\n",
      "\n",
      "### Response:\u001b[0m\n",
      "\n",
      "\u001b[1m> Finished chain.\u001b[0m\n",
      "\n",
      "\u001b[1m> Finished chain.\u001b[0m\n",
      "\n",
      "\n",
      "\u001b[1m> Entering new StuffDocumentsChain chain...\u001b[0m\n",
      "\n",
      "\n",
      "\u001b[1m> Entering new LLMChain chain...\u001b[0m\n",
      "Prompt after formatting:\n",
      "\u001b[32;1m\u001b[1;3myou are a assistant please answer in korean lanauage - 8 -9 등록포기 안내  구분 내용 등록포기 방법▪ 온라인 (홈페이지 )으로 본인이 직접 등록포기 ▪ 등록포기 신청이 승인처리 되면 취소할 수 없으니 유의하기 바람 10 학과 및 기타   <하이테크과정 학과> 학과 내용 스마트금융 ☎02-2186-5861▪ 금융과 소프트웨어 기술을 융합한 핀테크 산업 분야의 실무형 개발자 양성 ▪ (주요교과목 ) 빅데이터 분석, 블록체인 개발, 금융데이터 분석, 웹 어플리케이션 개발 ▪ (취득가능자격증 ) 정보처리기사 , 정보처리산업기사 , 리눅스마스터 , SQLD, OCJP\n",
      "\n",
      "훈련개시일 전일까지 고용보험 상실 처리가 되지 않은 자   - 폴리텍대학 내 과정 구분 없이 이중 등록이 된 자   - 기타 부정한 방법으로 합격 또는 입학한 사실이 확인된 자 기 타▪ 모집 요강에 구체적으로 명시되지 않은 사항은 대학의 입학전형관리 (소)위원회에서 결정 ▪ 입학전형은 대학의 사정에 따라 변경될 수 있음 문의사항  * 서 울 강 서 캠 퍼 스  : 02-2186-5800    (스 마 트금 융 과 ) 02-2186-5861 (사이버보안과 ) 02-2186-5850 (출판편집디자인과 ) 02-2186-5920 구분\n",
      "\n",
      ", 개별 공지하지 않음) ■ 지원자별 해당 제출서류 주소지 (등기우편 )  - (07684) 서울특별시 강서구 우장산로 10길 112    한국폴리텍대학 서울강서캠퍼스 교학처    (하이테크과정 입시담당자 앞)  ※ 입학전형은 대학 사정에 따라 입학전형관리소위원회의 심의를 통하여 변경될 수 있음과 정 학 과 직 종모집 정원모집 인원모집 1차 모집 2차 소계 일반 우선 소계 일반 우선 하이테크 (주간1년)총 계 100 108 56 52 4 52 48 4 사이버보안 사이버보안 25 27 14 13 113 12 1 스마트금융 핀테크 25\n",
      "\n",
      ",000원(월 20만원 한도)       ☞ 그외 훈련생 : 출석 1일 3,300원(월 66,000 원 한도)     - 교통비 : 출석 1일 2,500원(월 5만원 한도)    ※※ 서울강서캠퍼스는 기숙사 없음※※  <오시는 길>      대중교통 교통편 노   선 오시는 길 지하철 5호선 (우장산역 )  9호선 (가양역 )2번 출구 도보 10분 8번 출구 버스 10분 버스한국폴리텍 서 울 강 서 대 학 교604,606, 650,  652, 673,  5712, 6514,  6627, 6629,  70, 70-2\n",
      "\n",
      "### Instruction:\n",
      "한국폴리텍대학 하이테크과정 스마트금융과 전화번호는 어떻게 되나요?\n",
      "\n",
      "### Response:\u001b[0m\n",
      "\n",
      "\u001b[1m> Finished chain.\u001b[0m\n",
      "\n",
      "\u001b[1m> Finished chain.\u001b[0m\n",
      "\n",
      "\n",
      "\u001b[1m> Entering new StuffDocumentsChain chain...\u001b[0m\n",
      "\n",
      "\n",
      "\u001b[1m> Entering new LLMChain chain...\u001b[0m\n",
      "Prompt after formatting:\n",
      "\u001b[32;1m\u001b[1;3myou are a assistant please answer in korean lanauage - 8 -9 등록포기 안내  구분 내용 등록포기 방법▪ 온라인 (홈페이지 )으로 본인이 직접 등록포기 ▪ 등록포기 신청이 승인처리 되면 취소할 수 없으니 유의하기 바람 10 학과 및 기타   <하이테크과정 학과> 학과 내용 스마트금융 ☎02-2186-5861▪ 금융과 소프트웨어 기술을 융합한 핀테크 산업 분야의 실무형 개발자 양성 ▪ (주요교과목 ) 빅데이터 분석, 블록체인 개발, 금융데이터 분석, 웹 어플리케이션 개발 ▪ (취득가능자격증 ) 정보처리기사 , 정보처리산업기사 , 리눅스마스터 , SQLD, OCJP\n",
      "\n",
      "훈련개시일 전일까지 고용보험 상실 처리가 되지 않은 자   - 폴리텍대학 내 과정 구분 없이 이중 등록이 된 자   - 기타 부정한 방법으로 합격 또는 입학한 사실이 확인된 자 기 타▪ 모집 요강에 구체적으로 명시되지 않은 사항은 대학의 입학전형관리 (소)위원회에서 결정 ▪ 입학전형은 대학의 사정에 따라 변경될 수 있음 문의사항  * 서 울 강 서 캠 퍼 스  : 02-2186-5800    (스 마 트금 융 과 ) 02-2186-5861 (사이버보안과 ) 02-2186-5850 (출판편집디자인과 ) 02-2186-5920 구분\n",
      "\n",
      ", 핸드폰번호처리목적  달성시까지국가기술자격법 제10조, 동법 시행령 제33조의2 보훈청 보훈대상자 확인성명,보훈번호 ,주민등록번호 , 학과,입학(수료)일자,취업사항 , 자격증취득사항 ,계좌번호 , 교육과정명 ,교육기간처리목적  달성시까지보훈보상대상자 지원에 관한  법률 제24조, 제26조, 동법  시행령 제92조 해당보험사 단체보험가입 성명,주민등록번호처리목적 달성시까지보험업법시행령 102조 근로복지공단직업훈련생계비 대부  대상자 확인 협조성명,주민등록번호 ,과정구분 , 훈련시작일 ,훈련종료일\n",
      "\n",
      ",   휴대폰번호 , 이메일 , 주소,  수료일자 , 취업여부 ,  취업일자 , 취업사업장처리목적  달성시까지고용정책기본법 제15조,   동법 시행령 제43조의2,  국민평생직업능력 개발법  제6조,  동법 시행령 제52조의2 한국산업 인력공단국가자격시험 접수  및 시행,  자격정보관리 , 확인서  및 자격증 발급이름, 주민등록번호 , 주소,   수료일자 , 핸드폰번호처리목적  달성시까지국가기술자격법 제10조, 동법 시행령 제33조의2 보훈청 보훈대상자 확인성명,보훈번호 ,주민등록번호 , 학과,입학(수료)일자,취업사항\n",
      "\n",
      "### Instruction:\n",
      "스마트금융과 전화번호는 어떻게 되나요?\n",
      "\n",
      "### Response:\u001b[0m\n",
      "\n",
      "\u001b[1m> Finished chain.\u001b[0m\n",
      "\n",
      "\u001b[1m> Finished chain.\u001b[0m\n"
     ]
    }
   ],
   "source": [
    "import requests, json\n",
    "\n",
    "import gradio as gr\n",
    "\n",
    "model = 'llama3-hkcode-meta' #You can replace the model name if needed\n",
    "# model = 'llama3' #You can replace the model name if needed\n",
    "context = [] \n",
    "\n",
    "\n",
    "\n",
    "import gradio as gr\n",
    "\n",
    "#Call Ollama API\n",
    "def generate(prompt, context, top_k, top_p, temp):\n",
    "    resp = rag.invoke(prompt)\n",
    "    # r = resp[\"result\"]\n",
    "\n",
    "    response = resp[\"result\"]  \n",
    "\n",
    "\n",
    "    context = []\n",
    "    return response, context\n",
    "\n",
    "\n",
    "\n",
    "def chat(input, chat_history, top_k, top_p, temp):\n",
    "\n",
    "    chat_history = chat_history or []\n",
    "\n",
    "    global context\n",
    "    output, context = generate(input, context, top_k, top_p, temp)\n",
    "\n",
    "    chat_history.append((input, output))\n",
    "\n",
    "    return chat_history, chat_history\n",
    "  #the first history in return history, history is meant to update the \n",
    "  #chatbot widget, and the second history is meant to update the state \n",
    "  #(which is used to maintain conversation history across interactions)\n",
    "\n",
    "\n",
    "#########################Gradio Code##########################\n",
    "block = gr.Blocks()\n",
    "\n",
    "\n",
    "with block:\n",
    "\n",
    "    gr.Markdown(\"\"\"<h1><center> Jarvis </center></h1>\n",
    "    \"\"\")\n",
    "\n",
    "    chatbot = gr.Chatbot()\n",
    "    message = gr.Textbox(placeholder=\"Type here\")\n",
    "\n",
    "    state = gr.State()\n",
    "    with gr.Row():\n",
    "        top_k = gr.Slider(0.0,100.0, label=\"top_k\", value=40, info=\"Reduces the probability of generating nonsense. A higher value (e.g. 100) will give more diverse answers, while a lower value (e.g. 10) will be more conservative. (Default: 40)\")\n",
    "        top_p = gr.Slider(0.0,1.0, label=\"top_p\", value=0.9, info=\" Works together with top-k. A higher value (e.g., 0.95) will lead to more diverse text, while a lower value (e.g., 0.5) will generate more focused and conservative text. (Default: 0.9)\")\n",
    "        temp = gr.Slider(0.0,2.0, label=\"temperature\", value=0.8, info=\"The temperature of the model. Increasing the temperature will make the model answer more creatively. (Default: 0.8)\")\n",
    "\n",
    "\n",
    "    submit = gr.Button(\"SEND\")\n",
    "\n",
    "    submit.click(chat, inputs=[message, state, top_k, top_p, temp], outputs=[chatbot, state])\n",
    "\n",
    "\n",
    "block.launch(debug=True,share=True)"
   ]
  },
  {
   "cell_type": "code",
   "execution_count": null,
   "id": "6fb10ad9-152a-4f3d-a4f0-e23b690c6626",
   "metadata": {},
   "outputs": [],
   "source": []
  },
  {
   "cell_type": "code",
   "execution_count": null,
   "id": "3f5b28ae-b708-454a-b744-64311fd7396b",
   "metadata": {},
   "outputs": [],
   "source": []
  },
  {
   "cell_type": "code",
   "execution_count": null,
   "id": "27c39a02-bede-4936-bc08-6b70937881db",
   "metadata": {},
   "outputs": [],
   "source": []
  },
  {
   "cell_type": "code",
   "execution_count": null,
   "id": "30677a4a-1d86-4431-934b-d3b50f4e054f",
   "metadata": {},
   "outputs": [],
   "source": []
  },
  {
   "cell_type": "code",
   "execution_count": null,
   "id": "3973e1e2-687c-495e-9e50-6a0a54843b7f",
   "metadata": {},
   "outputs": [],
   "source": [
    "import requests, json\n",
    "\n",
    "import gradio as gr\n",
    "\n",
    "model = 'llama3-hkcode-meta' #You can replace the model name if needed\n",
    "# model = 'llama3' #You can replace the model name if needed\n",
    "context = [] \n",
    "\n",
    "\n",
    "\n",
    "import gradio as gr\n",
    "\n",
    "#Call Ollama API\n",
    "def generate(prompt, context, top_k, top_p, temp):\n",
    "    r = requests.post('http://localhost:11434/api/generate',\n",
    "                     json={\n",
    "                         'model': model,\n",
    "                         'prompt': prompt,\n",
    "                         'context': context,\n",
    "                         'options':{\n",
    "                             'top_k': top_k,\n",
    "                             'temperature':top_p,\n",
    "                             'top_p': temp\n",
    "                         }\n",
    "                     },\n",
    "                     stream=False)\n",
    "    r.raise_for_status()\n",
    "\n",
    " \n",
    "    response = \"\"  \n",
    "\n",
    "    for line in r.iter_lines():\n",
    "        body = json.loads(line)\n",
    "        response_part = body.get('response', '')\n",
    "        print(response_part)\n",
    "        if 'error' in body:\n",
    "            raise Exception(body['error'])\n",
    "\n",
    "        response += response_part\n",
    "\n",
    "        if body.get('done', False):\n",
    "            context = body.get('context', [])\n",
    "            return response, context\n",
    "\n",
    "\n",
    "\n",
    "def chat(input, chat_history, top_k, top_p, temp):\n",
    "\n",
    "    chat_history = chat_history or []\n",
    "\n",
    "    global context\n",
    "    output, context = generate(input, context, top_k, top_p, temp)\n",
    "\n",
    "    chat_history.append((input, output))\n",
    "\n",
    "    return chat_history, chat_history\n",
    "  #the first history in return history, history is meant to update the \n",
    "  #chatbot widget, and the second history is meant to update the state \n",
    "  #(which is used to maintain conversation history across interactions)\n",
    "\n",
    "\n",
    "#########################Gradio Code##########################\n",
    "block = gr.Blocks()\n",
    "\n",
    "\n",
    "with block:\n",
    "\n",
    "    gr.Markdown(\"\"\"<h1><center> Jarvis </center></h1>\n",
    "    \"\"\")\n",
    "\n",
    "    chatbot = gr.Chatbot()\n",
    "    message = gr.Textbox(placeholder=\"Type here\")\n",
    "\n",
    "    state = gr.State()\n",
    "    with gr.Row():\n",
    "        top_k = gr.Slider(0.0,100.0, label=\"top_k\", value=40, info=\"Reduces the probability of generating nonsense. A higher value (e.g. 100) will give more diverse answers, while a lower value (e.g. 10) will be more conservative. (Default: 40)\")\n",
    "        top_p = gr.Slider(0.0,1.0, label=\"top_p\", value=0.9, info=\" Works together with top-k. A higher value (e.g., 0.95) will lead to more diverse text, while a lower value (e.g., 0.5) will generate more focused and conservative text. (Default: 0.9)\")\n",
    "        temp = gr.Slider(0.0,2.0, label=\"temperature\", value=0.8, info=\"The temperature of the model. Increasing the temperature will make the model answer more creatively. (Default: 0.8)\")\n",
    "\n",
    "\n",
    "    submit = gr.Button(\"SEND\")\n",
    "\n",
    "    submit.click(chat, inputs=[message, state, top_k, top_p, temp], outputs=[chatbot, state])\n",
    "\n",
    "\n",
    "block.launch(debug=True,share=True)"
   ]
  },
  {
   "cell_type": "code",
   "execution_count": null,
   "id": "40b78d32-b322-44a6-af5b-ed0b3b3d1242",
   "metadata": {},
   "outputs": [],
   "source": []
  },
  {
   "cell_type": "code",
   "execution_count": null,
   "id": "2b801620-4aca-49be-884b-5f0d847373fd",
   "metadata": {},
   "outputs": [],
   "source": []
  }
 ],
 "metadata": {
  "kernelspec": {
   "display_name": "Python 3 (ipykernel)",
   "language": "python",
   "name": "python3"
  },
  "language_info": {
   "codemirror_mode": {
    "name": "ipython",
    "version": 3
   },
   "file_extension": ".py",
   "mimetype": "text/x-python",
   "name": "python",
   "nbconvert_exporter": "python",
   "pygments_lexer": "ipython3",
   "version": "3.10.11"
  }
 },
 "nbformat": 4,
 "nbformat_minor": 5
}
